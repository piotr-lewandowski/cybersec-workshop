{
 "cells": [
  {
   "cell_type": "code",
   "execution_count": 9,
   "metadata": {},
   "outputs": [
    {
     "name": "stdout",
     "output_type": "stream",
     "text": [
      "276\n",
      "010100100000001001110010001000000111000000000000010100100000001001110010001000000111000000000000010100100000001001110010001000000111000000000000000000000000000000000000000000000000000000000000000000000000000000000000000000000000000000000000000000000000000000000000000000000000\n"
     ]
    }
   ],
   "source": [
    "# convolutional codes encoding\n",
    "\n",
    "K = 36\n",
    "\n",
    "def f(x, m):\n",
    "    assert len(x) == K\n",
    "\n",
    "    res = 0\n",
    "    for i in range(K):\n",
    "        res += x[i] * (i % m)\n",
    "    \n",
    "    return res % 2\n",
    "\n",
    "def fi(m):\n",
    "    return lambda x: f(x, m)\n",
    "\n",
    "def encode(m, fs):\n",
    "    l = len(m)\n",
    "\n",
    "    init = [0] * (K - 1)\n",
    "\n",
    "    input = init + m\n",
    "    res = []\n",
    "    for i in range(l):\n",
    "        window = input[i:i+K]\n",
    "        res += [g(window) for g in fs]\n",
    "\n",
    "    return res\n",
    "\n",
    "w = [1] + [0, 1] * 34\n",
    "fs = [fi(m) for m in range(1, 5)]\n",
    "print(len(encode(w, fs)))\n",
    "print(''.join(map(str, encode(w, fs))))"
   ]
  }
 ],
 "metadata": {
  "kernelspec": {
   "display_name": "Python 3",
   "language": "python",
   "name": "python3"
  },
  "language_info": {
   "codemirror_mode": {
    "name": "ipython",
    "version": 3
   },
   "file_extension": ".py",
   "mimetype": "text/x-python",
   "name": "python",
   "nbconvert_exporter": "python",
   "pygments_lexer": "ipython3",
   "version": "3.10.12"
  }
 },
 "nbformat": 4,
 "nbformat_minor": 2
}
