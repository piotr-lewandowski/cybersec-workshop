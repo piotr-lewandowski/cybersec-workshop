{
 "cells": [
  {
   "cell_type": "code",
   "execution_count": 1,
   "metadata": {},
   "outputs": [],
   "source": [
    "from random import Random\n",
    "from Crypto.Util.number import bytes_to_long, long_to_bytes\n",
    "import math\n",
    "from scipy.special import gammainc\n",
    "\n",
    "r = Random()\n",
    "\n",
    "len_bts = 10000\n",
    "bts = r.randbytes(len_bts)\n",
    "\n",
    "def long_to_list(n: int, length: int):\n",
    "    res = []\n",
    "    for i in range(n.bit_length()):\n",
    "        res.append( n & 1 )\n",
    "        n >>= 1\n",
    "    while len(res) < length:\n",
    "        res.append(0)\n",
    "\n",
    "    return res"
   ]
  },
  {
   "cell_type": "code",
   "execution_count": 2,
   "metadata": {},
   "outputs": [
    {
     "name": "stdout",
     "output_type": "stream",
     "text": [
      "True\n"
     ]
    }
   ],
   "source": [
    "# Frequency test\n",
    "\n",
    "# returns true for random sequences\n",
    "def frequency_test(b: list, n: int) -> bool:\n",
    "    s = sum([1 if b[i] == 1 else -1 for i in range(n)])\n",
    "\n",
    "    sobs = abs(s) / (n ** 0.5)\n",
    "\n",
    "    p = math.erfc(sobs / (2 ** 0.5))\n",
    "\n",
    "    return p >= 0.01\n",
    "\n",
    "eps = int(\"1100100100001111110110101010001000100001011010001100001000110100110001001100011001100010100010111000\", 2)\n",
    "n = 100\n",
    "\n",
    "b = long_to_list(eps, n)\n",
    "\n",
    "print(frequency_test(b, n))"
   ]
  },
  {
   "cell_type": "code",
   "execution_count": 4,
   "metadata": {},
   "outputs": [
    {
     "name": "stdout",
     "output_type": "stream",
     "text": [
      "True\n"
     ]
    }
   ],
   "source": [
    "# Block frequency test\n",
    "\n",
    "def block_test(b: list, n: int, block_len: int) -> bool:\n",
    "\n",
    "    blocks = n // block_len\n",
    "\n",
    "    chunks = [ b[i:i+block_len] for i in range(0, n, block_len) ]\n",
    "\n",
    "    s = [ sum(chunk) / blocks for chunk in chunks ]\n",
    "\n",
    "    sobs = 4 * blocks * sum([ ((si - 0.5) ** 2) for si in s ])\n",
    "    \n",
    "    p = 1 - gammainc(blocks / 2, sobs / 2)\n",
    " \n",
    "    return p >= 0.01\n",
    "\n",
    "eps = int(\"1100100100001111110110101010001000100001011010001100001000110100110001001100011001100010100010111000\", 2)\n",
    "n = 100\n",
    "m = 10\n",
    "\n",
    "print(block_test(long_to_list(eps, n), n, m))"
   ]
  },
  {
   "cell_type": "code",
   "execution_count": 5,
   "metadata": {},
   "outputs": [
    {
     "name": "stdout",
     "output_type": "stream",
     "text": [
      "True\n"
     ]
    }
   ],
   "source": [
    "# runs test\n",
    "\n",
    "def runs_test(b: list, n: int) -> bool:\n",
    "    pi = sum(b) / n\n",
    "\n",
    "    vobs = 1\n",
    "    for i in range(1, n):\n",
    "        if b[i] != b[i-1]:\n",
    "            vobs += 1\n",
    "\n",
    "    p = math.erfc(abs(vobs - 2 * n * pi * (1 - pi)) / (2 * (2 * n) ** 0.5 * pi * (1 - pi)))\n",
    "\n",
    "    return p >= 0.01\n",
    "\n",
    "\n",
    "eps = int(\"1100100100001111110110101010001000100001011010001100001000110100110001001100011001100010100010111000\", 2)\n",
    "\n",
    "print(runs_test(long_to_list(eps, 100), 100))"
   ]
  },
  {
   "cell_type": "code",
   "execution_count": 6,
   "metadata": {},
   "outputs": [
    {
     "name": "stdout",
     "output_type": "stream",
     "text": [
      "True\n"
     ]
    }
   ],
   "source": [
    "# Longest run of ones in a block test\n",
    "\n",
    "def longest_run_test(b: list, n: int) -> bool:\n",
    "\n",
    "    Ms = [8, 128, 10000]\n",
    "    Ks = [3, 5, 6]\n",
    "    Ns = [16, 49, 75]\n",
    "    minL = [1, 4, 10]\n",
    "    maxL = [4, 9, 16]\n",
    "    PIs = [ [0.2148, 0.3672, 0.2305, 0.1875], [0.1174, 0.2430, 0.2493, 0.1752, 0.1027, 0.1124], [0.0882, 0.2092, 0.2483, 0.1933, 0.1208, 0.0675, 0.0727]]\n",
    "\n",
    "    variant = None\n",
    "    if n >= 128:\n",
    "        variant = 0\n",
    "    if n >= 6272:\n",
    "        variant = 1\n",
    "    if n >= 750000:\n",
    "        variant = 2\n",
    "\n",
    "    assert variant != None\n",
    "\n",
    "    M = Ms[variant]\n",
    "    K = Ks[variant]\n",
    "    N = Ns[variant]\n",
    "    lower = minL[variant]\n",
    "    upper = maxL[variant]\n",
    "    PI = PIs[variant]\n",
    "\n",
    "    chunks = [ b[i:i+M] for i in range(0, n, M) ]\n",
    "    counts = [0] * (K + 1)\n",
    "\n",
    "    for chunk in chunks:\n",
    "        runs = [ len(run) for run in \"\".join([str(bit) for bit in chunk]).split(\"0\") if run != \"\" ]\n",
    "        vobs = max(runs)\n",
    "        if vobs <= lower:\n",
    "            counts[0] += 1\n",
    "        elif vobs >= upper:\n",
    "            counts[K] += 1\n",
    "        else:\n",
    "            counts[vobs - lower] += 1\n",
    "\n",
    "    chi = 0\n",
    "    for i in range(K + 1):\n",
    "        chi += ((counts[i] - N * PI[i]) ** 2) / (N * PI[i])\n",
    "\n",
    "    p = 1 - gammainc(K / 2, chi / 2)\n",
    "\n",
    "    return p >= 0.01\n",
    "\n",
    "eps = int(\"11001100000101010110110001001100111000000000001001001101010100010001001111010110100000001101011111001100111001101101100010110010\", 2)\n",
    "n = 128\n",
    "\n",
    "print(longest_run_test(long_to_list(eps, n), n))\n",
    "\n"
   ]
  },
  {
   "cell_type": "code",
   "execution_count": 7,
   "metadata": {},
   "outputs": [
    {
     "name": "stdout",
     "output_type": "stream",
     "text": [
      "True\n"
     ]
    }
   ],
   "source": [
    "# non-overlapping template matching test\n",
    "\n",
    "def template_test(b: list, n: int, M: int, template: list) -> bool:\n",
    "    N = n // M\n",
    "    m = len(template)\n",
    "\n",
    "    chunks = [ b[i:i+M] for i in range(0, n, M) ]\n",
    "    count = [0] * N\n",
    "\n",
    "    for i in range(N):\n",
    "        start = 0\n",
    "        end = start + m\n",
    "        found = 0\n",
    "        \n",
    "        while end < len(chunks[i]):\n",
    "            if chunks[i][start:end] == template:\n",
    "                found += 1\n",
    "                start = end\n",
    "                end = start + m\n",
    "            else:\n",
    "                start += 1\n",
    "                end += 1\n",
    "        \n",
    "        count[i] = found\n",
    "\n",
    "    mu = (M - m + 1) / (2 ** m)\n",
    "    sigma = M * (1 / (2 ** m) - (2 * m - 1) / (2 ** (2 * m)))\n",
    "\n",
    "    chi = 0\n",
    "    for i in range(N):\n",
    "        chi += ((count[i] - mu) ** 2) / (sigma ** 2)\n",
    "    \n",
    "    p = 1 - gammainc(N / 2, chi / 2)\n",
    "\n",
    "    return p >= 0.01\n",
    "\n",
    "b = r.randbytes(2**7)\n",
    "b = long_to_list(bytes_to_long(b), 2**10)\n",
    "n = 2**10\n",
    "pattern = [0, 0, 0, 0, 0, 0, 0, 0, 1]\n",
    "\n",
    "print(template_test(b, n, 25, pattern))\n"
   ]
  },
  {
   "cell_type": "code",
   "execution_count": 9,
   "metadata": {},
   "outputs": [
    {
     "name": "stdout",
     "output_type": "stream",
     "text": [
      "True\n"
     ]
    }
   ],
   "source": [
    "# overlapping template matching test\n",
    "\n",
    "def overlapping_template_test(b: list, n: int, M: int, template: list) -> bool:\n",
    "    N = n // M\n",
    "    m = len(template)\n",
    "\n",
    "    chunks = [ b[i:i+M] for i in range(0, n, M) ]\n",
    "    count = [0] * 6\n",
    "\n",
    "    for chunk in chunks:\n",
    "        start = 0\n",
    "        end = start + m\n",
    "        found = 0\n",
    "        \n",
    "        while end < len(chunk):\n",
    "            if chunk[start:end] == template:\n",
    "                found += 1\n",
    "            start += 1\n",
    "            end += 1\n",
    "        \n",
    "        if found <= 5:\n",
    "            count[found] += 1\n",
    "        else:\n",
    "            count[5] += 1\n",
    "\n",
    "    lambd = (M - m + 1) / (2 ** m)\n",
    "    eta = lambd / 2\n",
    "\n",
    "    pi = [0.364091, 0.185659, 0.139381, 0.100571, 0.0704323, 0.139865]\n",
    "\n",
    "    chi = 0\n",
    "    for i in range(6):\n",
    "        chi += ((count[i] - N * pi[i]) ** 2) / (N * pi[i])\n",
    "\n",
    "    p = 1 - gammainc(N / 2, chi / 2)\n",
    "\n",
    "    return p >= 0.01\n",
    "\n",
    "b = r.randbytes(2**7)\n",
    "b = long_to_list(bytes_to_long(b), 2**10)\n",
    "n = 2**10\n",
    "pattern = [0, 0, 0, 0, 0, 0, 0, 0, 1]\n",
    "\n",
    "print(overlapping_template_test(b, n, 25, pattern))\n"
   ]
  },
  {
   "cell_type": "code",
   "execution_count": 10,
   "metadata": {},
   "outputs": [],
   "source": [
    "# serial test\n",
    "\n",
    "def serial_test(b: list, n: int, m: int) -> bool:\n",
    "\n",
    "    counts = {}\n",
    "\n",
    "    chi = [0,0,0]\n",
    "\n",
    "    for k in range(3):\n",
    "        for i in range(2 ** (m - k)):\n",
    "            start_bits = b[:m-k]\n",
    "            updated_bits = b + start_bits\n",
    "\n",
    "            tmpl = long_to_list(i, m - k)\n",
    "\n",
    "            index = bin(i)[2:].zfill(m - k)\n",
    "            if counts.get(index, None) != None:\n",
    "                continue\n",
    "            l = len(tmpl)\n",
    "            if l == 0:\n",
    "                continue\n",
    "            for j in range(len(updated_bits) - l):\n",
    "                if updated_bits[j:j+l] == tmpl:\n",
    "                    counts[index] = counts.get(index, 0) + 1\n",
    "        chi[k] = (2 ** (m - k)) / n * sum([ counts[t] ** 2 for t in counts if len(t) == m - k ]) - n\n",
    "\n",
    "    gPhi = chi[0] - chi[1]\n",
    "    hPhi = chi[0] - 2 * chi[1] + chi[2]\n",
    "\n",
    "    pval1 = 1 - gammainc(2 ** (m - 2), gPhi / 2)\n",
    "    pval2 = 1 - gammainc(2 ** (m - 3), hPhi / 2)\n",
    "\n",
    "\n",
    "n = 10\n",
    "eps = int(\"0011011101\", 2)\n",
    "m = 3\n",
    "\n",
    "serial_test(long_to_list(eps, n), n, m)"
   ]
  },
  {
   "cell_type": "code",
   "execution_count": 11,
   "metadata": {},
   "outputs": [
    {
     "name": "stdout",
     "output_type": "stream",
     "text": [
      "16\n"
     ]
    },
    {
     "data": {
      "text/plain": [
       "True"
      ]
     },
     "execution_count": 11,
     "metadata": {},
     "output_type": "execute_result"
    }
   ],
   "source": [
    "# cumsum\n",
    "\n",
    "from math import erf, floor\n",
    "\n",
    "def phi(x):\n",
    "    return (1.0 + erf(x / (2 ** 0.5))) / 2.0\n",
    "\n",
    "def cumsum_test(b: list, n: int, forward: bool) -> bool:\n",
    "    if forward:\n",
    "        b = [x for x in reversed(b)]\n",
    "\n",
    "    S = [0] * (n + 1)\n",
    "    for i in range(n):\n",
    "        S[i + 1] = S[i] + b[i] * 2 - 1\n",
    "\n",
    "    Z = max([abs(s) for s in S])\n",
    "\n",
    "    print(Z)\n",
    "\n",
    "    p1 = 0\n",
    "    p2 = 0\n",
    "\n",
    "    start1 = floor(((-n / Z) + 1) / 4)\n",
    "    end1 = floor(((n / Z) - 1) / 4)\n",
    "\n",
    "    start2 = floor(((-n / Z) - 3) / 4)\n",
    "    end2 = floor(((n / Z) - 1) / 4)\n",
    "\n",
    "    for k in range(start1, end1):\n",
    "        p1 += phi((4 * k + 1) * Z / n ** 0.5) - phi((4 * k - 1) * Z / n ** 0.5)\n",
    "\n",
    "    for k in range(start2, end2):\n",
    "        p2 += phi((4 * k + 3) * Z / n ** 0.5) - phi((4 * k + 1) * Z / n ** 0.5)\n",
    "\n",
    "    p = 1 - p1 + p2\n",
    "\n",
    "    return p >= 0.01\n",
    "\n",
    "\n",
    "n = 100\n",
    "eps = int(\"1100100100001111110110101010001000100001011010001100001000110100110001001100011001100010100010111000\", 2)\n",
    "\n",
    "cumsum_test(long_to_list(eps, n), n, True)"
   ]
  },
  {
   "cell_type": "code",
   "execution_count": 27,
   "metadata": {},
   "outputs": [
    {
     "ename": "RuntimeError",
     "evalue": "Failed to create a default .NET runtime, which would\n                    have been \"mono\" on this system. Either install a\n                    compatible runtime or configure it explicitly via\n                    `set_runtime` or the `PYTHONNET_*` environment variables\n                    (see set_runtime_from_env).",
     "output_type": "error",
     "traceback": [
      "\u001b[0;31m---------------------------------------------------------------------------\u001b[0m",
      "\u001b[0;31mRuntimeError\u001b[0m                              Traceback (most recent call last)",
      "File \u001b[0;32m~/.local/lib/python3.10/site-packages/pythonnet/__init__.py:75\u001b[0m, in \u001b[0;36m_create_runtime_from_spec\u001b[0;34m(spec, params)\u001b[0m\n\u001b[1;32m     74\u001b[0m \u001b[38;5;28;01melif\u001b[39;00m spec \u001b[38;5;241m==\u001b[39m \u001b[38;5;124m\"\u001b[39m\u001b[38;5;124mmono\u001b[39m\u001b[38;5;124m\"\u001b[39m:\n\u001b[0;32m---> 75\u001b[0m     \u001b[38;5;28;01mreturn\u001b[39;00m \u001b[43mclr_loader\u001b[49m\u001b[38;5;241;43m.\u001b[39;49m\u001b[43mget_mono\u001b[49m\u001b[43m(\u001b[49m\u001b[38;5;241;43m*\u001b[39;49m\u001b[38;5;241;43m*\u001b[39;49m\u001b[43mparams\u001b[49m\u001b[43m)\u001b[49m\n\u001b[1;32m     76\u001b[0m \u001b[38;5;28;01melif\u001b[39;00m spec \u001b[38;5;241m==\u001b[39m \u001b[38;5;124m\"\u001b[39m\u001b[38;5;124mcoreclr\u001b[39m\u001b[38;5;124m\"\u001b[39m:\n",
      "File \u001b[0;32m~/.local/lib/python3.10/site-packages/clr_loader/__init__.py:73\u001b[0m, in \u001b[0;36mget_mono\u001b[0;34m(config_file, global_config_file, libmono, sgen, debug, jit_options, assembly_dir, config_dir, set_signal_chaining)\u001b[0m\n\u001b[1;32m     72\u001b[0m \u001b[38;5;28;01mif\u001b[39;00m libmono \u001b[38;5;129;01mis\u001b[39;00m \u001b[38;5;28;01mNone\u001b[39;00m:\n\u001b[0;32m---> 73\u001b[0m     libmono \u001b[38;5;241m=\u001b[39m \u001b[43mfind_libmono\u001b[49m\u001b[43m(\u001b[49m\u001b[43msgen\u001b[49m\u001b[38;5;241;43m=\u001b[39;49m\u001b[43msgen\u001b[49m\u001b[43m,\u001b[49m\u001b[43m \u001b[49m\u001b[43massembly_dir\u001b[49m\u001b[38;5;241;43m=\u001b[39;49m\u001b[43massembly_dir\u001b[49m\u001b[43m)\u001b[49m\n\u001b[1;32m     75\u001b[0m impl \u001b[38;5;241m=\u001b[39m Mono(\n\u001b[1;32m     76\u001b[0m     \u001b[38;5;66;03m# domain=domain,\u001b[39;00m\n\u001b[1;32m     77\u001b[0m     debug\u001b[38;5;241m=\u001b[39mdebug,\n\u001b[0;32m   (...)\u001b[0m\n\u001b[1;32m     84\u001b[0m     set_signal_chaining\u001b[38;5;241m=\u001b[39mset_signal_chaining,\n\u001b[1;32m     85\u001b[0m )\n",
      "File \u001b[0;32m~/.local/lib/python3.10/site-packages/clr_loader/util/find.py:148\u001b[0m, in \u001b[0;36mfind_libmono\u001b[0;34m(assembly_dir, sgen)\u001b[0m\n\u001b[1;32m    147\u001b[0m \u001b[38;5;28;01mif\u001b[39;00m path \u001b[38;5;129;01mis\u001b[39;00m \u001b[38;5;28;01mNone\u001b[39;00m:\n\u001b[0;32m--> 148\u001b[0m     \u001b[38;5;28;01mraise\u001b[39;00m \u001b[38;5;167;01mRuntimeError\u001b[39;00m(\u001b[38;5;124m\"\u001b[39m\u001b[38;5;124mCould not find libmono\u001b[39m\u001b[38;5;124m\"\u001b[39m)\n\u001b[1;32m    150\u001b[0m \u001b[38;5;28;01mreturn\u001b[39;00m Path(path)\n",
      "\u001b[0;31mRuntimeError\u001b[0m: Could not find libmono",
      "\nThe above exception was the direct cause of the following exception:\n",
      "\u001b[0;31mRuntimeError\u001b[0m                              Traceback (most recent call last)",
      "Cell \u001b[0;32mIn[27], line 1\u001b[0m\n\u001b[0;32m----> 1\u001b[0m \u001b[38;5;28;01mimport\u001b[39;00m \u001b[38;5;21;01mclr\u001b[39;00m\n",
      "File \u001b[0;32m~/.local/lib/python3.10/site-packages/clr.py:6\u001b[0m\n\u001b[1;32m      1\u001b[0m \u001b[38;5;124;03m\"\"\"\u001b[39;00m\n\u001b[1;32m      2\u001b[0m \u001b[38;5;124;03mLegacy Python.NET loader for backwards compatibility\u001b[39;00m\n\u001b[1;32m      3\u001b[0m \u001b[38;5;124;03m\"\"\"\u001b[39;00m\n\u001b[1;32m      5\u001b[0m \u001b[38;5;28;01mfrom\u001b[39;00m \u001b[38;5;21;01mpythonnet\u001b[39;00m \u001b[38;5;28;01mimport\u001b[39;00m load\n\u001b[0;32m----> 6\u001b[0m \u001b[43mload\u001b[49m\u001b[43m(\u001b[49m\u001b[43m)\u001b[49m\n",
      "File \u001b[0;32m~/.local/lib/python3.10/site-packages/pythonnet/__init__.py:133\u001b[0m, in \u001b[0;36mload\u001b[0;34m(runtime, **params)\u001b[0m\n\u001b[1;32m    131\u001b[0m \u001b[38;5;28;01mif\u001b[39;00m _RUNTIME \u001b[38;5;129;01mis\u001b[39;00m \u001b[38;5;28;01mNone\u001b[39;00m:\n\u001b[1;32m    132\u001b[0m     \u001b[38;5;28;01mif\u001b[39;00m runtime \u001b[38;5;129;01mis\u001b[39;00m \u001b[38;5;28;01mNone\u001b[39;00m:\n\u001b[0;32m--> 133\u001b[0m         \u001b[43mset_runtime_from_env\u001b[49m\u001b[43m(\u001b[49m\u001b[43m)\u001b[49m\n\u001b[1;32m    134\u001b[0m     \u001b[38;5;28;01melse\u001b[39;00m:\n\u001b[1;32m    135\u001b[0m         set_runtime(runtime, \u001b[38;5;241m*\u001b[39m\u001b[38;5;241m*\u001b[39mparams)\n",
      "File \u001b[0;32m~/.local/lib/python3.10/site-packages/pythonnet/__init__.py:114\u001b[0m, in \u001b[0;36mset_runtime_from_env\u001b[0;34m()\u001b[0m\n\u001b[1;32m    111\u001b[0m \u001b[38;5;28;01mfrom\u001b[39;00m \u001b[38;5;21;01mos\u001b[39;00m \u001b[38;5;28;01mimport\u001b[39;00m environ\n\u001b[1;32m    113\u001b[0m spec \u001b[38;5;241m=\u001b[39m environ\u001b[38;5;241m.\u001b[39mget(\u001b[38;5;124m\"\u001b[39m\u001b[38;5;124mPYTHONNET_RUNTIME\u001b[39m\u001b[38;5;124m\"\u001b[39m, \u001b[38;5;124m\"\u001b[39m\u001b[38;5;124mdefault\u001b[39m\u001b[38;5;124m\"\u001b[39m)\n\u001b[0;32m--> 114\u001b[0m runtime \u001b[38;5;241m=\u001b[39m \u001b[43m_create_runtime_from_spec\u001b[49m\u001b[43m(\u001b[49m\u001b[43mspec\u001b[49m\u001b[43m)\u001b[49m\n\u001b[1;32m    115\u001b[0m set_runtime(runtime)\n",
      "File \u001b[0;32m~/.local/lib/python3.10/site-packages/pythonnet/__init__.py:82\u001b[0m, in \u001b[0;36m_create_runtime_from_spec\u001b[0;34m(spec, params)\u001b[0m\n\u001b[1;32m     80\u001b[0m \u001b[38;5;28;01mexcept\u001b[39;00m \u001b[38;5;167;01mException\u001b[39;00m \u001b[38;5;28;01mas\u001b[39;00m exc:\n\u001b[1;32m     81\u001b[0m     \u001b[38;5;28;01mif\u001b[39;00m was_default:\n\u001b[0;32m---> 82\u001b[0m         \u001b[38;5;28;01mraise\u001b[39;00m \u001b[38;5;167;01mRuntimeError\u001b[39;00m(\n\u001b[1;32m     83\u001b[0m             \u001b[38;5;124mf\u001b[39m\u001b[38;5;124m\"\"\"\u001b[39m\u001b[38;5;124mFailed to create a default .NET runtime, which would\u001b[39m\n\u001b[1;32m     84\u001b[0m \u001b[38;5;124m                have been \u001b[39m\u001b[38;5;124m\"\u001b[39m\u001b[38;5;132;01m{\u001b[39;00mspec\u001b[38;5;132;01m}\u001b[39;00m\u001b[38;5;124m\"\u001b[39m\u001b[38;5;124m on this system. Either install a\u001b[39m\n\u001b[1;32m     85\u001b[0m \u001b[38;5;124m                compatible runtime or configure it explicitly via\u001b[39m\n\u001b[1;32m     86\u001b[0m \u001b[38;5;124m                `set_runtime` or the `PYTHONNET_*` environment variables\u001b[39m\n\u001b[1;32m     87\u001b[0m \u001b[38;5;124m                (see set_runtime_from_env).\u001b[39m\u001b[38;5;124m\"\"\"\u001b[39m\n\u001b[1;32m     88\u001b[0m         ) \u001b[38;5;28;01mfrom\u001b[39;00m \u001b[38;5;21;01mexc\u001b[39;00m\n\u001b[1;32m     89\u001b[0m     \u001b[38;5;28;01melse\u001b[39;00m:\n\u001b[1;32m     90\u001b[0m         \u001b[38;5;28;01mraise\u001b[39;00m \u001b[38;5;167;01mRuntimeError\u001b[39;00m(\n\u001b[1;32m     91\u001b[0m             \u001b[38;5;124mf\u001b[39m\u001b[38;5;124m\"\"\"\u001b[39m\u001b[38;5;124mFailed to create a .NET runtime (\u001b[39m\u001b[38;5;132;01m{\u001b[39;00mspec\u001b[38;5;132;01m}\u001b[39;00m\u001b[38;5;124m) using the\u001b[39m\n\u001b[1;32m     92\u001b[0m \u001b[38;5;124m            parameters \u001b[39m\u001b[38;5;132;01m{\u001b[39;00mparams\u001b[38;5;132;01m}\u001b[39;00m\u001b[38;5;124m.\u001b[39m\u001b[38;5;124m\"\"\"\u001b[39m\n\u001b[1;32m     93\u001b[0m         ) \u001b[38;5;28;01mfrom\u001b[39;00m \u001b[38;5;21;01mexc\u001b[39;00m\n",
      "\u001b[0;31mRuntimeError\u001b[0m: Failed to create a default .NET runtime, which would\n                    have been \"mono\" on this system. Either install a\n                    compatible runtime or configure it explicitly via\n                    `set_runtime` or the `PYTHONNET_*` environment variables\n                    (see set_runtime_from_env)."
     ]
    }
   ],
   "source": [
    "import clr"
   ]
  }
 ],
 "metadata": {
  "kernelspec": {
   "display_name": "Python 3",
   "language": "python",
   "name": "python3"
  },
  "language_info": {
   "codemirror_mode": {
    "name": "ipython",
    "version": 3
   },
   "file_extension": ".py",
   "mimetype": "text/x-python",
   "name": "python",
   "nbconvert_exporter": "python",
   "pygments_lexer": "ipython3",
   "version": "3.10.12"
  }
 },
 "nbformat": 4,
 "nbformat_minor": 2
}
