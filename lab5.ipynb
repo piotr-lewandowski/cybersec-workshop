{
 "cells": [
  {
   "cell_type": "code",
   "execution_count": 7,
   "metadata": {},
   "outputs": [],
   "source": [
    "from random import Random\n",
    "from Crypto.Util.number import bytes_to_long, long_to_bytes\n",
    "import math\n",
    "\n",
    "r = Random()\n",
    "\n",
    "len_bts = 10000\n",
    "bts = r.randbytes(len_bts)\n",
    "\n",
    "def long_to_list(n: int, length: int):\n",
    "    res = []\n",
    "    for i in range(n.bit_length()):\n",
    "        res.append( n & 1 )\n",
    "        n >>= 1\n",
    "    while len(res) < length:\n",
    "        res.append(0)\n",
    "\n",
    "    return res"
   ]
  },
  {
   "cell_type": "code",
   "execution_count": 7,
   "metadata": {},
   "outputs": [
    {
     "name": "stdout",
     "output_type": "stream",
     "text": [
      "-9998\n",
      "0.5270892568875369\n"
     ]
    }
   ],
   "source": [
    "# Frequency test\n",
    "\n",
    "# returns true for random sequences\n",
    "def frequency_test(b: bytes) -> bool:\n",
    "    m = bytes_to_long(b)\n",
    "    n = len(b) * 8\n",
    "\n",
    "    converted = [0] * n\n",
    "    for i in range(n):\n",
    "        converted[i] = m % 2\n",
    "        m = m << 1\n",
    "        if converted[i] == 0:\n",
    "            converted[i] = -1\n",
    "\n",
    "    s = sum(converted)\n",
    "\n",
    "    sobs = abs(s) / (n ** 0.5)\n",
    "\n",
    "    p = math.erfc(sobs / (2 ** 0.5))\n",
    "\n",
    "    return p >= 0.01\n"
   ]
  },
  {
   "cell_type": "code",
   "execution_count": 10,
   "metadata": {},
   "outputs": [
    {
     "name": "stdout",
     "output_type": "stream",
     "text": [
      "0.7064384496412808\n",
      "True\n"
     ]
    }
   ],
   "source": [
    "# Block frequency test\n",
    "from scipy.special import gammainc\n",
    "\n",
    "def block_test(b: list, n: int, block_len: int) -> bool:\n",
    "\n",
    "    blocks = n // block_len\n",
    "\n",
    "    chunks = [ b[i:i+block_len] for i in range(0, n, block_len) ]\n",
    "\n",
    "    s = [ sum(chunk) / blocks for chunk in chunks ]\n",
    "\n",
    "    sobs = 4 * blocks * sum([ ((si - 0.5) ** 2) for si in s ])\n",
    "    \n",
    "    p = 1 - gammainc(blocks / 2, sobs / 2)\n",
    " \n",
    "    return p >= 0.01\n",
    "\n",
    "eps = int(\"1100100100001111110110101010001000100001011010001100001000110100110001001100011001100010100010111000\", 2)\n",
    "n = 100\n",
    "m = 10\n",
    "\n",
    "print(block_test(long_to_list(eps, n), n, m))"
   ]
  }
 ],
 "metadata": {
  "kernelspec": {
   "display_name": "Python 3",
   "language": "python",
   "name": "python3"
  },
  "language_info": {
   "codemirror_mode": {
    "name": "ipython",
    "version": 3
   },
   "file_extension": ".py",
   "mimetype": "text/x-python",
   "name": "python",
   "nbconvert_exporter": "python",
   "pygments_lexer": "ipython3",
   "version": "3.10.12"
  }
 },
 "nbformat": 4,
 "nbformat_minor": 2
}
