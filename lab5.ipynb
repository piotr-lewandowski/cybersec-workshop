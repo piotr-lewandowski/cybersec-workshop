{
 "cells": [
  {
   "cell_type": "code",
   "execution_count": 4,
   "metadata": {},
   "outputs": [],
   "source": [
    "from random import Random\n",
    "from Crypto.Util.number import bytes_to_long, long_to_bytes\n",
    "import math\n",
    "\n",
    "r = Random()\n",
    "\n",
    "len_bts = 10000\n",
    "bts = r.randbytes(len_bts)"
   ]
  },
  {
   "cell_type": "code",
   "execution_count": 7,
   "metadata": {},
   "outputs": [
    {
     "name": "stdout",
     "output_type": "stream",
     "text": [
      "-9998\n",
      "0.5270892568875369\n"
     ]
    }
   ],
   "source": [
    "# Frequency test\n",
    "\n",
    "# returns true for random sequences\n",
    "def frequency_test(b: bytes) -> bool:\n",
    "    m = bytes_to_long(b)\n",
    "    n = len(b) * 8\n",
    "\n",
    "    converted = [0] * n\n",
    "    for i in range(n):\n",
    "        converted[i] = m % 2\n",
    "        m = m << 1\n",
    "        if converted[i] == 0:\n",
    "            converted[i] = -1\n",
    "\n",
    "    s = sum(converted)\n",
    "\n",
    "    sobs = abs(s) / (n ** 0.5)\n",
    "\n",
    "    p = math.erfc(sobs / (2 ** 0.5))\n",
    "\n",
    "    return p >= 0.01\n"
   ]
  },
  {
   "cell_type": "code",
   "execution_count": null,
   "metadata": {},
   "outputs": [],
   "source": [
    "# Block frequency test\n",
    "\n",
    "def block_test(b: bytes) -> bool:\n"
   ]
  }
 ],
 "metadata": {
  "kernelspec": {
   "display_name": "Python 3",
   "language": "python",
   "name": "python3"
  },
  "language_info": {
   "codemirror_mode": {
    "name": "ipython",
    "version": 3
   },
   "file_extension": ".py",
   "mimetype": "text/x-python",
   "name": "python",
   "nbconvert_exporter": "python",
   "pygments_lexer": "ipython3",
   "version": "3.10.12"
  }
 },
 "nbformat": 4,
 "nbformat_minor": 2
}
