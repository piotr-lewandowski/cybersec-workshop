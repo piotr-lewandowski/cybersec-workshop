{
 "cells": [
  {
   "cell_type": "code",
   "execution_count": 4,
   "metadata": {},
   "outputs": [],
   "source": [
    "from SBox import *"
   ]
  },
  {
   "cell_type": "code",
   "execution_count": 5,
   "metadata": {},
   "outputs": [
    {
     "name": "stdout",
     "output_type": "stream",
     "text": [
      "True\n",
      "[False, False, False, False, False, False, False, False]\n"
     ]
    }
   ],
   "source": [
    "# Inversible\n",
    "\n",
    "def is_inversible(self):\n",
    "    return len(set(self.sbox)) == len(self.sbox)\n",
    "\n",
    "SBox.is_inversible = is_inversible\n",
    "\n",
    "print(aes_sbox.is_inversible())\n",
    "print([sbox.is_inversible() for sbox in des_sboxes])"
   ]
  },
  {
   "cell_type": "code",
   "execution_count": 6,
   "metadata": {},
   "outputs": [
    {
     "name": "stdout",
     "output_type": "stream",
     "text": [
      "0.646484375\n",
      "[1.0, 1.0, 1.0, 1.0, 1.0, 1.0, 1.0, 1.0]\n"
     ]
    }
   ],
   "source": [
    "# Avalanche effect\n",
    "def hamming_distance(a, b):\n",
    "    return bin(a ^ b).count('1')\n",
    "\n",
    "def avalanche_effect(self):\n",
    "    total = 0\n",
    "    \n",
    "    for i in range(2**self.input_len):\n",
    "        for j in range(self.input_len):\n",
    "            change = 1 << j\n",
    "            diff = hamming_distance(self.sbox[i], self.sbox[i ^ change])\n",
    "            total += (diff >= self.output_len / 2)\n",
    "\n",
    "    return total / (self.input_len * 2**self.input_len)\n",
    "SBox.avalanche_effect = avalanche_effect\n",
    "\n",
    "print(aes_sbox.avalanche_effect())\n",
    "print([(sbox.avalanche_effect()) for sbox in des_sboxes])"
   ]
  },
  {
   "cell_type": "code",
   "execution_count": 7,
   "metadata": {},
   "outputs": [
    {
     "name": "stdout",
     "output_type": "stream",
     "text": [
      "True\n",
      "[True, True, True, True, True, True, True, True]\n"
     ]
    }
   ],
   "source": [
    "# Totality\n",
    "\n",
    "def totality(self):\n",
    "    all = True\n",
    "    for i in range(self.input_len):\n",
    "        for j in range(self.output_len):\n",
    "            found = False\n",
    "            for input1 in range(2**self.input_len):\n",
    "                input2 = input1 ^ (1 << i)\n",
    "                output1 = self.sbox[input1]\n",
    "                output2 = self.sbox[input2]\n",
    "                diff_output = output1 ^ output2\n",
    "                diff_j = diff_output & (1 << j)\n",
    "                found = found or (diff_j != 0)\n",
    "            all = all and found\n",
    "    return all\n",
    "\n",
    "SBox.totality = totality\n",
    "\n",
    "print(aes_sbox.totality())\n",
    "print([sbox.totality() for sbox in des_sboxes])"
   ]
  },
  {
   "cell_type": "code",
   "execution_count": 8,
   "metadata": {},
   "outputs": [
    {
     "name": "stdout",
     "output_type": "stream",
     "text": [
      "False\n",
      "[False, False, False, False, False, False, False, False]\n"
     ]
    }
   ],
   "source": [
    "# Strong avalanche effect\n",
    "\n",
    "def strong_avalanche_effect(self):\n",
    "    all = True\n",
    "    for i in range(self.input_len):\n",
    "        for j in range(self.output_len):\n",
    "            count = 0\n",
    "            for x in range(2**self.input_len):\n",
    "                y = x ^ (1 << i)\n",
    "                diff = self.sbox[x] ^ self.sbox[y]\n",
    "                diff_j = diff & (1 << j)\n",
    "                count += (diff_j != 0)\n",
    "            all = all and (count == (2**self.input_len / 2))\n",
    "    return all\n",
    "SBox.strong_avalanche_effect = strong_avalanche_effect\n",
    "\n",
    "print(aes_sbox.strong_avalanche_effect())\n",
    "print([sbox.strong_avalanche_effect() for sbox in des_sboxes])"
   ]
  },
  {
   "cell_type": "code",
   "execution_count": 9,
   "metadata": {},
   "outputs": [
    {
     "name": "stdout",
     "output_type": "stream",
     "text": [
      "[0, 99, 251, 15, 118, 56, 7, 197, 166, 36, 54, 5, 107, 127, 210, 181, 213, 3, 123, 33, 253, 84, 32, 183, 169, 211, 102, 51, 195, 46, 49, 199, 198, 180, 141, 93, 76, 41, 165, 6, 111, 168, 194, 37, 63, 117, 157, 94, 88, 106, 2, 119, 245, 230, 142, 25, 212, 72, 82]\n",
      "59\n",
      "[1, 124, 16, 202, 116, 146, 79, 132, 95, 207, 138, 126, 243, 13, 215, 14, 171, 98, 170, 172, 145, 129, 12, 254, 187, 234, 135, 23, 240, 140, 100, 67, 26, 162, 58, 128, 205, 189, 122, 218, 87, 91, 57, 18, 201, 221, 193, 120, 188, 101, 77, 227, 17, 130, 19, 125, 255, 22, 71, 160, 224, 225, 248, 65, 131, 236, 206, 139, 61, 39, 204, 75, 179, 109, 60, 235, 233, 30, 114, 64, 9]\n",
      "81\n",
      "[4, 242, 137, 167, 92, 74, 214, 246, 66, 44, 113, 163, 10, 103, 133, 151, 136, 196, 28, 156, 222, 29, 164, 73, 59, 226, 152, 70, 90, 190, 174, 228, 105, 249, 153, 238, 40, 52, 24, 173, 149, 42, 229, 217, 53, 150, 144, 96, 208, 112, 81, 209, 62, 178, 55, 154, 184, 108, 80, 83, 237, 85, 252, 176, 231, 148, 34, 147, 220, 134, 68, 27, 175, 121, 182, 78, 47, 21, 89, 203, 31, 192, 186, 244, 191, 8, 48]\n",
      "87\n",
      "[11, 43, 241, 161, 50, 35, 38, 247, 104, 69, 110, 159, 219, 185, 86, 177, 200, 232, 155, 20, 250, 45, 216, 97, 239, 223, 158]\n",
      "27\n",
      "[115, 143]\n",
      "2\n",
      "[[[0, 14], [1, 4, 2, 13, 9, 10, 6, 11, 12, 5, 15, 7, 8, 3]], [[0, 15, 10, 2, 8, 9, 7, 4, 6, 3, 14, 5, 11, 13]], [[0, 10, 12, 11, 7, 5, 3, 14, 2, 9, 13, 4, 6, 15, 8, 1]], [[0, 7, 10, 8, 1, 13, 12, 11, 5, 6, 9, 2, 14, 4]], [[0, 2, 4, 7, 6, 11, 15, 9, 5, 10, 3, 1, 12, 13]], [[0, 12, 14, 5, 2, 10, 3, 15, 11, 4, 9, 13, 7, 8]], [[0, 4, 15, 1, 11, 7, 13, 10, 9, 12, 5], [3, 14, 6, 8]], [[0, 13], [1, 2, 8, 10, 3, 4, 6, 11, 14, 12, 5, 15, 7]]]\n"
     ]
    }
   ],
   "source": [
    "# Cycle decomposition\n",
    "\n",
    "def cycle_decomposition(self):\n",
    "    cycles = []\n",
    "    visited = [False] * (2**self.input_len)\n",
    "    for i in range(2**self.input_len):\n",
    "        if not visited[i]:\n",
    "            cycle = []\n",
    "            j = i\n",
    "            while not visited[j]:\n",
    "                cycle.append(j)\n",
    "                visited[j] = True\n",
    "                j = self.sbox[j]\n",
    "            if len(cycle) > 1:\n",
    "                cycles.append(cycle)\n",
    "    return cycles\n",
    "SBox.cycle_decomposition = cycle_decomposition\n",
    "\n",
    "aes_cycles = aes_sbox.cycle_decomposition()\n",
    "for cycle in aes_cycles:\n",
    "    print(cycle)\n",
    "    print(len(cycle))\n",
    "print([sbox.cycle_decomposition() for sbox in des_sboxes])"
   ]
  },
  {
   "cell_type": "code",
   "execution_count": 26,
   "metadata": {},
   "outputs": [
    {
     "name": "stdout",
     "output_type": "stream",
     "text": [
      "6\n",
      "1\n",
      "2\n",
      "[2, 2, 2, 2, 2, 2, 2, 2]\n"
     ]
    }
   ],
   "source": [
    "# Branch number\n",
    "\n",
    "block_size = 1\n",
    "\n",
    "def block_weight(x, n):\n",
    "    binary = bin(x)[2:].ljust(n,'0')\n",
    "    blocks = [binary[i:i+block_size] for i in range(0, len(binary), block_size)]\n",
    "    return len(binary) // block_size - blocks.count(\"0\" * block_size)\n",
    "\n",
    "print(block_weight(0b1010111100000000))\n",
    "print(block_weight(0b1))\n",
    "\n",
    "def branch_number(self):\n",
    "    min_weight = self.input_len * 3\n",
    "    for i in range(2**self.input_len):\n",
    "        for j in range(2**self.input_len):\n",
    "            if i != j:\n",
    "                weight = block_weight(i ^ j)\n",
    "                s_weight = block_weight(self.sbox[i] ^ self.sbox[j])\n",
    "                if weight + s_weight < min_weight:\n",
    "                    min_weight = weight + s_weight\n",
    "    return min_weight\n",
    "SBox.branch_number = branch_number\n",
    "\n",
    "print(aes_sbox.branch_number())\n",
    "\n",
    "print([sbox.branch_number() for sbox in des_sboxes])"
   ]
  }
 ],
 "metadata": {
  "kernelspec": {
   "display_name": "Python 3",
   "language": "python",
   "name": "python3"
  },
  "language_info": {
   "codemirror_mode": {
    "name": "ipython",
    "version": 3
   },
   "file_extension": ".py",
   "mimetype": "text/x-python",
   "name": "python",
   "nbconvert_exporter": "python",
   "pygments_lexer": "ipython3",
   "version": "3.10.12"
  },
  "orig_nbformat": 4
 },
 "nbformat": 4,
 "nbformat_minor": 2
}
